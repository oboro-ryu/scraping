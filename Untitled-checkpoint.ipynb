{
 "cells": [
  {
   "cell_type": "code",
   "execution_count": null,
   "metadata": {},
   "outputs": [],
   "source": []
  }
 ],
 "metadata": {
  "kernelspec": {
   "display_name": "Python 3",
   "language": "python",
   "name": "python3"
  },
  "language_info": {
   "name": "python",
   "version": "3.11.2"
  },
  "vscode": {
   "interpreter": {
    "hash": "d925083de57242e3f0eea4e9aafbc11841ff8d1d01fdf976bd1c751e4306027e"
   }
  }
 },
 "nbformat": 4,
 "nbformat_minor": 5
}
